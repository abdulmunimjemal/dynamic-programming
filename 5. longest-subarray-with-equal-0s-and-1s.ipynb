{
 "cells": [
  {
   "cell_type": "markdown",
   "metadata": {},
   "source": [
    "## 5. Longest Subarray with Equal 0s and 1s\n",
    "Given an array of integers containing only 0s and 1s, find the length of the longest subarray with an equal number of 0s and 1s.\n",
    " - **Input:** An array nums of size n (1 ≤ n ≤ 10^5), where each element nums[i] is either 0 or 1.\n",
    " - **Output:** The length of the longest subarray with an equal number of 0s and 1s."
   ]
  },
  {
   "cell_type": "code",
   "execution_count": null,
   "metadata": {},
   "outputs": [],
   "source": [
    "n = [0,0,1,1,0,1,0,0,0,1,1,1]"
   ]
  },
  {
   "cell_type": "code",
   "execution_count": null,
   "metadata": {},
   "outputs": [],
   "source": []
  }
 ],
 "metadata": {
  "kernelspec": {
   "display_name": "Python 3",
   "language": "python",
   "name": "python3"
  },
  "language_info": {
   "name": "python",
   "version": "3.11.5"
  }
 },
 "nbformat": 4,
 "nbformat_minor": 2
}
