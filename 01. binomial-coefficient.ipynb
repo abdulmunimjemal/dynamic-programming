{
 "cells": [
  {
   "cell_type": "code",
   "execution_count": 1,
   "metadata": {},
   "outputs": [],
   "source": [
    "# Mathematically\n",
    "# C(n, k) = C(n-1, k-1) + C(n-1, k)\n",
    "# Bases cases: C(n,0) = C(n,n) = 1\n",
    "\n",
    "# Also, there is no way we choose more items than already present, so k > n, means 0"
   ]
  },
  {
   "cell_type": "code",
   "execution_count": 39,
   "metadata": {},
   "outputs": [
    {
     "data": {
      "text/plain": [
       "'\\nTABULATION TECHNIQUE\\n\\nFILL THE TABLE\\nSTARTING FROM BASE CASE AND PROGRESS TOWARDS THE FINAL PROVLEM\\n'"
      ]
     },
     "execution_count": 39,
     "metadata": {},
     "output_type": "execute_result"
    }
   ],
   "source": [
    "\"\"\"\n",
    "TABULATION TECHNIQUE\n",
    "\n",
    "FILL THE TABLE\n",
    "STARTING FROM BASE CASE AND PROGRESS TOWARDS THE FINAL PROVLEM\n",
    "\"\"\""
   ]
  },
  {
   "cell_type": "code",
   "execution_count": 2,
   "metadata": {},
   "outputs": [],
   "source": [
    "def binomial_coefficient_r(n, k):\n",
    "    if k > n:\n",
    "        return 0\n",
    "    if k == n or k == 0:\n",
    "        return 1\n",
    "    return binomial_coefficient_r(n-1, k-1) + binomial_coefficient_r(n-1, k)"
   ]
  },
  {
   "cell_type": "code",
   "execution_count": 3,
   "metadata": {},
   "outputs": [],
   "source": [
    "from calc import calc_time"
   ]
  },
  {
   "cell_type": "code",
   "execution_count": 4,
   "metadata": {},
   "outputs": [
    {
     "data": {
      "text/plain": [
       "{'time': 0.0, 'result': 4}"
      ]
     },
     "execution_count": 4,
     "metadata": {},
     "output_type": "execute_result"
    }
   ],
   "source": [
    "calc_time(binomial_coefficient_r, 4, 3)"
   ]
  },
  {
   "cell_type": "code",
   "execution_count": 5,
   "metadata": {},
   "outputs": [
    {
     "ename": "KeyboardInterrupt",
     "evalue": "",
     "output_type": "error",
     "traceback": [
      "\u001b[1;31m---------------------------------------------------------------------------\u001b[0m",
      "\u001b[1;31mKeyboardInterrupt\u001b[0m                         Traceback (most recent call last)",
      "Cell \u001b[1;32mIn[5], line 1\u001b[0m\n\u001b[1;32m----> 1\u001b[0m \u001b[43mcalc_time\u001b[49m\u001b[43m(\u001b[49m\u001b[43mbinomial_coefficient_r\u001b[49m\u001b[43m,\u001b[49m\u001b[43m \u001b[49m\u001b[38;5;241;43m40\u001b[39;49m\u001b[43m,\u001b[49m\u001b[43m \u001b[49m\u001b[38;5;241;43m30\u001b[39;49m\u001b[43m)\u001b[49m\n",
      "File \u001b[1;32mc:\\Users\\Abdulmunim\\Desktop\\ML-Pathway\\dynamic-programming\\calc.py:4\u001b[0m, in \u001b[0;36mcalc_time\u001b[1;34m(func, *args)\u001b[0m\n\u001b[0;32m      2\u001b[0m \u001b[38;5;28;01mdef\u001b[39;00m \u001b[38;5;21mcalc_time\u001b[39m(func, \u001b[38;5;241m*\u001b[39margs):\n\u001b[0;32m      3\u001b[0m     start \u001b[38;5;241m=\u001b[39m time\u001b[38;5;241m.\u001b[39mtime()\n\u001b[1;32m----> 4\u001b[0m     result \u001b[38;5;241m=\u001b[39m \u001b[43mfunc\u001b[49m\u001b[43m(\u001b[49m\u001b[38;5;241;43m*\u001b[39;49m\u001b[43margs\u001b[49m\u001b[43m)\u001b[49m\n\u001b[0;32m      5\u001b[0m     end \u001b[38;5;241m=\u001b[39m time\u001b[38;5;241m.\u001b[39mtime()\n\u001b[0;32m      6\u001b[0m     \u001b[38;5;28;01mreturn\u001b[39;00m {\u001b[38;5;124m\"\u001b[39m\u001b[38;5;124mtime\u001b[39m\u001b[38;5;124m\"\u001b[39m: end\u001b[38;5;241m-\u001b[39mstart, \u001b[38;5;124m\"\u001b[39m\u001b[38;5;124mresult\u001b[39m\u001b[38;5;124m\"\u001b[39m: result}\n",
      "Cell \u001b[1;32mIn[2], line 6\u001b[0m, in \u001b[0;36mbinomial_coefficient_r\u001b[1;34m(n, k)\u001b[0m\n\u001b[0;32m      4\u001b[0m \u001b[38;5;28;01mif\u001b[39;00m k \u001b[38;5;241m==\u001b[39m n \u001b[38;5;129;01mor\u001b[39;00m k \u001b[38;5;241m==\u001b[39m \u001b[38;5;241m0\u001b[39m:\n\u001b[0;32m      5\u001b[0m     \u001b[38;5;28;01mreturn\u001b[39;00m \u001b[38;5;241m1\u001b[39m\n\u001b[1;32m----> 6\u001b[0m \u001b[38;5;28;01mreturn\u001b[39;00m \u001b[43mbinomial_coefficient_r\u001b[49m\u001b[43m(\u001b[49m\u001b[43mn\u001b[49m\u001b[38;5;241;43m-\u001b[39;49m\u001b[38;5;241;43m1\u001b[39;49m\u001b[43m,\u001b[49m\u001b[43m \u001b[49m\u001b[43mk\u001b[49m\u001b[38;5;241;43m-\u001b[39;49m\u001b[38;5;241;43m1\u001b[39;49m\u001b[43m)\u001b[49m \u001b[38;5;241m+\u001b[39m binomial_coefficient_r(n\u001b[38;5;241m-\u001b[39m\u001b[38;5;241m1\u001b[39m, k)\n",
      "Cell \u001b[1;32mIn[2], line 6\u001b[0m, in \u001b[0;36mbinomial_coefficient_r\u001b[1;34m(n, k)\u001b[0m\n\u001b[0;32m      4\u001b[0m \u001b[38;5;28;01mif\u001b[39;00m k \u001b[38;5;241m==\u001b[39m n \u001b[38;5;129;01mor\u001b[39;00m k \u001b[38;5;241m==\u001b[39m \u001b[38;5;241m0\u001b[39m:\n\u001b[0;32m      5\u001b[0m     \u001b[38;5;28;01mreturn\u001b[39;00m \u001b[38;5;241m1\u001b[39m\n\u001b[1;32m----> 6\u001b[0m \u001b[38;5;28;01mreturn\u001b[39;00m binomial_coefficient_r(n\u001b[38;5;241m-\u001b[39m\u001b[38;5;241m1\u001b[39m, k\u001b[38;5;241m-\u001b[39m\u001b[38;5;241m1\u001b[39m) \u001b[38;5;241m+\u001b[39m \u001b[43mbinomial_coefficient_r\u001b[49m\u001b[43m(\u001b[49m\u001b[43mn\u001b[49m\u001b[38;5;241;43m-\u001b[39;49m\u001b[38;5;241;43m1\u001b[39;49m\u001b[43m,\u001b[49m\u001b[43m \u001b[49m\u001b[43mk\u001b[49m\u001b[43m)\u001b[49m\n",
      "    \u001b[1;31m[... skipping similar frames: binomial_coefficient_r at line 6 (35 times)]\u001b[0m\n",
      "Cell \u001b[1;32mIn[2], line 6\u001b[0m, in \u001b[0;36mbinomial_coefficient_r\u001b[1;34m(n, k)\u001b[0m\n\u001b[0;32m      4\u001b[0m \u001b[38;5;28;01mif\u001b[39;00m k \u001b[38;5;241m==\u001b[39m n \u001b[38;5;129;01mor\u001b[39;00m k \u001b[38;5;241m==\u001b[39m \u001b[38;5;241m0\u001b[39m:\n\u001b[0;32m      5\u001b[0m     \u001b[38;5;28;01mreturn\u001b[39;00m \u001b[38;5;241m1\u001b[39m\n\u001b[1;32m----> 6\u001b[0m \u001b[38;5;28;01mreturn\u001b[39;00m \u001b[43mbinomial_coefficient_r\u001b[49m\u001b[43m(\u001b[49m\u001b[43mn\u001b[49m\u001b[38;5;241;43m-\u001b[39;49m\u001b[38;5;241;43m1\u001b[39;49m\u001b[43m,\u001b[49m\u001b[43m \u001b[49m\u001b[43mk\u001b[49m\u001b[38;5;241;43m-\u001b[39;49m\u001b[38;5;241;43m1\u001b[39;49m\u001b[43m)\u001b[49m \u001b[38;5;241m+\u001b[39m binomial_coefficient_r(n\u001b[38;5;241m-\u001b[39m\u001b[38;5;241m1\u001b[39m, k)\n",
      "Cell \u001b[1;32mIn[2], line 1\u001b[0m, in \u001b[0;36mbinomial_coefficient_r\u001b[1;34m(n, k)\u001b[0m\n\u001b[1;32m----> 1\u001b[0m \u001b[38;5;28;01mdef\u001b[39;00m \u001b[38;5;21mbinomial_coefficient_r\u001b[39m(n, k):\n\u001b[0;32m      2\u001b[0m     \u001b[38;5;28;01mif\u001b[39;00m k \u001b[38;5;241m>\u001b[39m n:\n\u001b[0;32m      3\u001b[0m         \u001b[38;5;28;01mreturn\u001b[39;00m \u001b[38;5;241m0\u001b[39m\n",
      "\u001b[1;31mKeyboardInterrupt\u001b[0m: "
     ]
    }
   ],
   "source": [
    "calc_time(binomial_coefficient_r, 40, 30)"
   ]
  },
  {
   "cell_type": "code",
   "execution_count": 9,
   "metadata": {},
   "outputs": [
    {
     "data": {
      "text/plain": [
       "{'time': 0.3121829032897949, 'result': 1081575}"
      ]
     },
     "execution_count": 9,
     "metadata": {},
     "output_type": "execute_result"
    }
   ],
   "source": [
    "calc_time(binomial_coefficient_r, 25, 17)"
   ]
  },
  {
   "cell_type": "code",
   "execution_count": 11,
   "metadata": {},
   "outputs": [
    {
     "data": {
      "text/plain": [
       "{'time': 8.892483949661255, 'result': 30045015}"
      ]
     },
     "execution_count": 11,
     "metadata": {},
     "output_type": "execute_result"
    }
   ],
   "source": [
    "calc_time(binomial_coefficient_r, 30, 10)"
   ]
  },
  {
   "cell_type": "code",
   "execution_count": 16,
   "metadata": {},
   "outputs": [],
   "source": [
    "# using tabulization \n",
    "\n",
    "def binomial_coefficient_t(n, k):\n",
    "    table = [\n",
    "        [0] * (k+1) for _ in range(n+1)\n",
    "    ]\n",
    "    \n",
    "    \"\"\"\n",
    "          k=0  k=1  k=2  k=3  k=4  k=5  k=6        k\n",
    "    n=0 [ [0]  [1]  [2]  [3]  [4]  [5]  [6]  ...  [k] ]\n",
    "    n=1 [ [0]  [1]  [2]  [3]  [4]  [5]  [6]  ...  [k] ]\n",
    "    n=2 [ [0]  [1]  [2]  [3]  [4]  [5]  [6]  ...  [k] ]\n",
    "    n=3 [ [0]  [1]  [2]  [3]  [4]  [5]  [6]  ...  [k] ]\n",
    "    .\n",
    "    .\n",
    "    .\n",
    "    n=n [ [0]  [1]  [2]  [3]  [4]  [5]  [6]  ...  [k] ]\n",
    "    \n",
    "    start from solving (0,0) then (0, 1) and so on\n",
    "    \n",
    "    # Mathematically\n",
    "    # C(n, k) = C(n-1, k-1) + C(n-1, k)\n",
    "    # Bases cases: C(n,0) = C(n,n) = 1\n",
    "    \"\"\"\n",
    "    \n",
    "    for i in range(n+1):\n",
    "        for j in range(min(i,k)+1):\n",
    "            if j == 0 or j == i: # base cases\n",
    "                table[i][j] = 1 \n",
    "            else:\n",
    "                table[i][j] = table[i-1][j-1] + table[i-1][j]\n",
    "    # after filling our table\n",
    "    return table"
   ]
  },
  {
   "cell_type": "code",
   "execution_count": 36,
   "metadata": {},
   "outputs": [],
   "source": [
    "a = calc_time(binomial_coefficient_t, 5, 2)[\"result\"]"
   ]
  },
  {
   "cell_type": "code",
   "execution_count": 37,
   "metadata": {},
   "outputs": [],
   "source": [
    "def visualize_2d_table(table, row_label=\"x\", column_label=\"y\"):\n",
    "    columns = len(table[0])\n",
    "    print(\" \"*(len(column_label)+4) + f\"  {row_label}  \"*columns)\n",
    "    for i in range(len(table)):\n",
    "        print(f\"{column_label} {i}: \", end = \" | \")\n",
    "        for j in range(len(table[i])):\n",
    "            print(f\"{table[i][j]}\", end = \" | \")\n",
    "        print(\"\")\n",
    "    "
   ]
  },
  {
   "cell_type": "code",
   "execution_count": 38,
   "metadata": {},
   "outputs": [
    {
     "name": "stdout",
     "output_type": "stream",
     "text": [
      "       x    x    x  \n",
      "y 0:  | 1 | 0 | 0 | \n",
      "y 1:  | 1 | 1 | 0 | \n",
      "y 2:  | 1 | 2 | 1 | \n",
      "y 3:  | 1 | 3 | 3 | \n",
      "y 4:  | 1 | 4 | 6 | \n",
      "y 5:  | 1 | 5 | 10 | \n"
     ]
    }
   ],
   "source": [
    "visualize_2d_table(a)"
   ]
  },
  {
   "cell_type": "code",
   "execution_count": null,
   "metadata": {},
   "outputs": [],
   "source": []
  }
 ],
 "metadata": {
  "kernelspec": {
   "display_name": "Python 3",
   "language": "python",
   "name": "python3"
  },
  "language_info": {
   "codemirror_mode": {
    "name": "ipython",
    "version": 3
   },
   "file_extension": ".py",
   "mimetype": "text/x-python",
   "name": "python",
   "nbconvert_exporter": "python",
   "pygments_lexer": "ipython3",
   "version": "3.11.5"
  }
 },
 "nbformat": 4,
 "nbformat_minor": 2
}
