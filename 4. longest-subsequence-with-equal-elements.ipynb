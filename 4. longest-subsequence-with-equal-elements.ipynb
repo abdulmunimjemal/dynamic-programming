{
 "cells": [
  {
   "cell_type": "markdown",
   "metadata": {},
   "source": [
    "## 4. Longest Subsequence with Equal Elements\n",
    "\n",
    "Given an array of integers, find the length of the longest subsequence in which all the elements are the same.\n",
    "- **Example:**\n",
    "    - *Input*:\n",
    "            `[2, 4, 4, 4, 6, 6, 7, 7, 7, 7, 8]`\n",
    "    - *Output*:\n",
    "             `4`\n",
    "- **Explanation**: The longest subsequence with equal elements is `[7, 7, 7, 7]`, which has a length of 4"
   ]
  },
  {
   "cell_type": "code",
   "execution_count": 1,
   "metadata": {},
   "outputs": [],
   "source": [
    "from calc import calc_time"
   ]
  },
  {
   "cell_type": "code",
   "execution_count": 15,
   "metadata": {},
   "outputs": [],
   "source": [
    "def longest_subsequence(seq: list, last=None, curr=1, longest=0) -> int:\n",
    "    if not seq:\n",
    "        return longest\n",
    "    if seq[-1] == last:\n",
    "        return longest_subsequence(seq[:-1], last, curr+1, longest)\n",
    "    else:\n",
    "        return longest_subsequence(seq[:-1], seq[-1], 1, max(curr, longest))\n",
    "        "
   ]
  },
  {
   "cell_type": "code",
   "execution_count": 40,
   "metadata": {},
   "outputs": [
    {
     "data": {
      "text/plain": [
       "{'time': 0.09114885330200195, 'result': 5}"
      ]
     },
     "execution_count": 40,
     "metadata": {},
     "output_type": "execute_result"
    }
   ],
   "source": [
    "n = [2,4,4,4,4,4,6,6,7,7,7,7] * 230\n",
    "calc_time(longest_subsequence,n)"
   ]
  },
  {
   "cell_type": "code",
   "execution_count": 30,
   "metadata": {},
   "outputs": [],
   "source": [
    "# Bottom iterative up approach\n",
    "\n",
    "def longest_subsequence_b(seq):\n",
    "    n = len(seq)\n",
    "    if n == 0:\n",
    "        return n\n",
    "    \n",
    "    curr_element,  curr_count = seq[0], 1\n",
    "    longest_element, longest_count = \"\", 0\n",
    "    \n",
    "    for i in range(1, n):\n",
    "        if seq[i] == curr_element:\n",
    "            curr_count += 1\n",
    "        else:\n",
    "            if curr_count >= longest_count:\n",
    "                longest_element, curr_element = curr_element, seq[i]\n",
    "                longest_count, curr_count = curr_count, 1\n",
    "            else:\n",
    "                curr_element, curr_count = seq[i], 1\n",
    "    \n",
    "    return longest_count #(longest_element, longest_count)"
   ]
  },
  {
   "cell_type": "code",
   "execution_count": 41,
   "metadata": {},
   "outputs": [
    {
     "data": {
      "text/plain": [
       "{'time': 0.0011911392211914062, 'result': 5}"
      ]
     },
     "execution_count": 41,
     "metadata": {},
     "output_type": "execute_result"
    }
   ],
   "source": [
    "calc_time(longest_subsequence_b, n)"
   ]
  }
 ],
 "metadata": {
  "kernelspec": {
   "display_name": "Python 3",
   "language": "python",
   "name": "python3"
  },
  "language_info": {
   "codemirror_mode": {
    "name": "ipython",
    "version": 3
   },
   "file_extension": ".py",
   "mimetype": "text/x-python",
   "name": "python",
   "nbconvert_exporter": "python",
   "pygments_lexer": "ipython3",
   "version": "3.11.5"
  }
 },
 "nbformat": 4,
 "nbformat_minor": 2
}
