{
 "cells": [
  {
   "cell_type": "markdown",
   "metadata": {},
   "source": [
    "## Minimum Number of Parentheses\n",
    "\n",
    "- Given a string containing only parentheses ( ‘(’ and ‘)’), we need to determine the minimum number\n",
    "of parentheses to be removed in order to make the string balanced. A balanced string has each\n",
    "opening parenthesis ‘(’ followed by a corresponding closing parenthesis ‘)’\n",
    "\n",
    "- **Input:**  A string containing only parentheses\n",
    "- **Output:** : The minimum number of parentheses to be removed."
   ]
  },
  {
   "cell_type": "code",
   "execution_count": 1,
   "metadata": {},
   "outputs": [],
   "source": [
    "def minimum_number_of_parenthesis(s):\n",
    "    to_remove = 0\n",
    "    stack = []\n",
    "    for i in s:\n",
    "        if s == ')':\n",
    "            if stack:\n",
    "                stack.pop()\n",
    "            else:\n",
    "                to_remove += 1\n",
    "        else:\n",
    "            stack.append(i)\n",
    "    return to_remove + len(stack)"
   ]
  },
  {
   "cell_type": "code",
   "execution_count": 2,
   "metadata": {},
   "outputs": [
    {
     "data": {
      "text/plain": [
       "6"
      ]
     },
     "execution_count": 2,
     "metadata": {},
     "output_type": "execute_result"
    }
   ],
   "source": [
    "minimum_number_of_parenthesis(\")(())(\")"
   ]
  },
  {
   "cell_type": "code",
   "execution_count": null,
   "metadata": {},
   "outputs": [],
   "source": []
  }
 ],
 "metadata": {
  "kernelspec": {
   "display_name": "Python 3",
   "language": "python",
   "name": "python3"
  },
  "language_info": {
   "codemirror_mode": {
    "name": "ipython",
    "version": 3
   },
   "file_extension": ".py",
   "mimetype": "text/x-python",
   "name": "python",
   "nbconvert_exporter": "python",
   "pygments_lexer": "ipython3",
   "version": "3.11.5"
  }
 },
 "nbformat": 4,
 "nbformat_minor": 2
}
