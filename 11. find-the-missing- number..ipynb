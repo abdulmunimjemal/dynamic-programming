{
 "cells": [
  {
   "cell_type": "markdown",
   "metadata": {},
   "source": [
    "## Find the Missing Number\n",
    "\n",
    "- You are given an array of integers from 1 to n, but one number is missing. Your task is to find and\n",
    "return the missing number.\n",
    "- ` For example, given the array [1, 3, 4, 5, 2, 7, 6], the missing number is 8, so the output would\n",
    "be 8. `\n",
    "- Write a function findMissingNumber to solve this problem. The function should take in an array of\n",
    "integers and return the missing number"
   ]
  },
  {
   "cell_type": "code",
   "execution_count": 4,
   "metadata": {},
   "outputs": [],
   "source": [
    "def find_missing_number(arr):\n",
    "    result = 0\n",
    "    for i in arr:\n",
    "        result ^= i\n",
    "    for i in range(1,len(arr)+2):\n",
    "        result ^= i\n",
    "    return result"
   ]
  },
  {
   "cell_type": "code",
   "execution_count": 5,
   "metadata": {},
   "outputs": [
    {
     "data": {
      "text/plain": [
       "5"
      ]
     },
     "execution_count": 5,
     "metadata": {},
     "output_type": "execute_result"
    }
   ],
   "source": [
    "arr = [1, 3, 4, 2, 7, 6]\n",
    "find_missing_number(arr)"
   ]
  },
  {
   "cell_type": "code",
   "execution_count": null,
   "metadata": {},
   "outputs": [],
   "source": []
  }
 ],
 "metadata": {
  "kernelspec": {
   "display_name": "Python 3",
   "language": "python",
   "name": "python3"
  },
  "language_info": {
   "codemirror_mode": {
    "name": "ipython",
    "version": 3
   },
   "file_extension": ".py",
   "mimetype": "text/x-python",
   "name": "python",
   "nbconvert_exporter": "python",
   "pygments_lexer": "ipython3",
   "version": "3.11.5"
  }
 },
 "nbformat": 4,
 "nbformat_minor": 2
}
