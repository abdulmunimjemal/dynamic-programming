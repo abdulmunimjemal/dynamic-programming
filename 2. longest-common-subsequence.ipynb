{
 "cells": [
  {
   "cell_type": "code",
   "execution_count": 1,
   "metadata": {},
   "outputs": [],
   "source": [
    "from calc import calc_time"
   ]
  },
  {
   "cell_type": "code",
   "execution_count": 14,
   "metadata": {},
   "outputs": [],
   "source": [
    "# Longest common subsequence between two strings\n",
    "\n",
    "\n",
    "def longest_common_subsequence(seq1, seq2, curr = \"\", prev = \"\"):\n",
    "    if len(seq1) == 0 or len(seq2) == 0:\n",
    "        return curr if len(curr) > len(prev) else prev\n",
    "    else:\n",
    "        if seq1[-1] == seq2[-1]:\n",
    "            curr += seq1[-1]\n",
    "        elif seq1[-1] != seq2[-1]:\n",
    "            prev = prev if len(prev) > len(curr) else curr\n",
    "            curr = \"\"\n",
    "    return longest_common_subsequence(seq1[:-1], seq2[:-1], curr, prev)[::-1]"
   ]
  },
  {
   "cell_type": "code",
   "execution_count": 16,
   "metadata": {},
   "outputs": [
    {
     "data": {
      "text/plain": [
       "' akkam '"
      ]
     },
     "execution_count": 16,
     "metadata": {},
     "output_type": "execute_result"
    }
   ],
   "source": [
    "a = \"abeb akkam fayyaada\"\n",
    "b = \"abeba akkam nagaahaa\"\n",
    "longest_common_subsequence(a,b)"
   ]
  },
  {
   "cell_type": "code",
   "execution_count": null,
   "metadata": {},
   "outputs": [],
   "source": []
  }
 ],
 "metadata": {
  "kernelspec": {
   "display_name": "Python 3",
   "language": "python",
   "name": "python3"
  },
  "language_info": {
   "codemirror_mode": {
    "name": "ipython",
    "version": 3
   },
   "file_extension": ".py",
   "mimetype": "text/x-python",
   "name": "python",
   "nbconvert_exporter": "python",
   "pygments_lexer": "ipython3",
   "version": "3.11.5"
  }
 },
 "nbformat": 4,
 "nbformat_minor": 2
}
