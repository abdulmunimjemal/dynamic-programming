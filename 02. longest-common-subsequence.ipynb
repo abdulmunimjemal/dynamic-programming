{
 "cells": [
  {
   "cell_type": "markdown",
   "metadata": {},
   "source": [
    "## 5. Longest Common Subsequence\n",
    "\n",
    "Given two strings, str1 and str2, find the length of their longest common subsequence (LCS)\n",
    "\n",
    "**Background:** A subsequence is a sequence that can be derived from another sequence by deleting some or no elements, without changing the order of the remaiing elements.<br>\n",
    "    - For example: `ACE` is a subsequence of `ABCDE`, but `AEC` is not"
   ]
  },
  {
   "cell_type": "code",
   "execution_count": 1,
   "metadata": {},
   "outputs": [],
   "source": [
    "from calc import calc_time"
   ]
  },
  {
   "cell_type": "code",
   "execution_count": 2,
   "metadata": {},
   "outputs": [],
   "source": [
    "# intution      \n",
    "method = \"\"\"\n",
    "We will use a tabulation method of bottom up dynamic programming approach.\n",
    " A 2D Table of size  (len(str1) + 1) X (len(str2) + 1)\n",
    " where table[i][j] represents the LCS of substrings str1[:i] and str2[:j]\n",
    "\"\"\""
   ]
  },
  {
   "cell_type": "code",
   "execution_count": 62,
   "metadata": {},
   "outputs": [],
   "source": [
    "# Longest common subsequence between two strings\n",
    "\n",
    "\n",
    "def longest_common_subsequence(str1, str2):\n",
    "    table = [\n",
    "        [0]*(len(str2)+1) for _ in range(len(str1) +1) \n",
    "        ]\n",
    "    for i in range(len(str1)):\n",
    "        for j in range(len(str2)):\n",
    "            \n",
    "            if str1[i] == str2[j]:\n",
    "                table[i+1][j+1] = table[i][j] + 1\n",
    "            else:\n",
    "                table[i+1][j+1] = max(\n",
    "                    table[i][j+1], table[i+1][j]\n",
    "                )\n",
    "    return table[len(str1)][len(str2)]\n",
    "   "
   ]
  },
  {
   "cell_type": "code",
   "execution_count": 76,
   "metadata": {},
   "outputs": [
    {
     "data": {
      "text/plain": [
       "3"
      ]
     },
     "execution_count": 76,
     "metadata": {},
     "output_type": "execute_result"
    }
   ],
   "source": [
    "str1 = \"ace\"\n",
    "str2 = \"abcde\"\n",
    "longest_common_subsequence(str1, str2)"
   ]
  },
  {
   "cell_type": "code",
   "execution_count": 77,
   "metadata": {},
   "outputs": [
    {
     "data": {
      "text/plain": [
       "15"
      ]
     },
     "execution_count": 77,
     "metadata": {},
     "output_type": "execute_result"
    }
   ],
   "source": [
    "a = \"abeb akkam fayyaada\"\n",
    "b = \"abeba akkam nagaahaa\"\n",
    "longest_common_subsequence(a,b)"
   ]
  },
  {
   "cell_type": "code",
   "execution_count": 78,
   "metadata": {},
   "outputs": [
    {
     "data": {
      "text/plain": [
       "0"
      ]
     },
     "execution_count": 78,
     "metadata": {},
     "output_type": "execute_result"
    }
   ],
   "source": [
    "a = \"bcd\"\n",
    "b = \"efgg\"\n",
    "longest_common_subsequence(a,b)"
   ]
  }
 ],
 "metadata": {
  "kernelspec": {
   "display_name": "Python 3",
   "language": "python",
   "name": "python3"
  },
  "language_info": {
   "codemirror_mode": {
    "name": "ipython",
    "version": 3
   },
   "file_extension": ".py",
   "mimetype": "text/x-python",
   "name": "python",
   "nbconvert_exporter": "python",
   "pygments_lexer": "ipython3",
   "version": "3.11.5"
  }
 },
 "nbformat": 4,
 "nbformat_minor": 2
}
