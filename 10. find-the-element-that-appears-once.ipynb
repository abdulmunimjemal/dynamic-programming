{
 "cells": [
  {
   "cell_type": "markdown",
   "metadata": {},
   "source": [
    "## Find the Element that Appears Once\n",
    "\n",
    "- You are given an array of integers, where each element appears twice except for one element that\n",
    "appears only once. Your task is to find and return the element that appears only once.\n",
    "For example, given the array [4, 3, 2, 4, 1, 3, 2], the element 1 appears only once, so the output\n",
    "would be 1.\n",
    "Write a function findSingle to solve this problem. The function should take in an array of integers\n",
    "and return the element that appears only once."
   ]
  },
  {
   "cell_type": "code",
   "execution_count": 3,
   "metadata": {},
   "outputs": [],
   "source": [
    "# Bitwise XOR\n",
    "\n",
    "guideline = \"\"\"\n",
    "1 1 1 1 0 1\n",
    "0 1 1 0 0 1\n",
    "XOR\n",
    "1 0 0 1 0 1 (returns 1 if they are different only)\n",
    "\"\"\""
   ]
  },
  {
   "cell_type": "code",
   "execution_count": 13,
   "metadata": {},
   "outputs": [],
   "source": [
    "def find_single(arr):\n",
    "    result = 0\n",
    "    for num in arr:\n",
    "        result ^= num\n",
    "    return result"
   ]
  },
  {
   "cell_type": "code",
   "execution_count": 16,
   "metadata": {},
   "outputs": [
    {
     "data": {
      "text/plain": [
       "2"
      ]
     },
     "execution_count": 16,
     "metadata": {},
     "output_type": "execute_result"
    }
   ],
   "source": [
    "arr = [1,1,2,3,3,]\n",
    "find_single(arr)"
   ]
  },
  {
   "cell_type": "code",
   "execution_count": null,
   "metadata": {},
   "outputs": [],
   "source": []
  }
 ],
 "metadata": {
  "kernelspec": {
   "display_name": "Python 3",
   "language": "python",
   "name": "python3"
  },
  "language_info": {
   "codemirror_mode": {
    "name": "ipython",
    "version": 3
   },
   "file_extension": ".py",
   "mimetype": "text/x-python",
   "name": "python",
   "nbconvert_exporter": "python",
   "pygments_lexer": "ipython3",
   "version": "3.11.5"
  }
 },
 "nbformat": 4,
 "nbformat_minor": 2
}
