{
 "cells": [
  {
   "cell_type": "markdown",
   "metadata": {},
   "source": [
    "## 5. Longest Subarray with Equal 0s and 1s\n",
    "Given an array of integers containing only 0s and 1s, find the length of the longest subarray with an equal number of 0s and 1s.\n",
    " - **Input:** An array nums of size n (1 ≤ n ≤ 10^5), where each element nums[i] is either 0 or 1.\n",
    " - **Output:** The length of the longest subarray with an equal number of 0s and 1s.\n",
    "\n",
    "**EXAMPLE 1:** <br>\n",
    "    &nbsp;&nbsp;&nbsp;&nbsp;- **Input:** arr[] = {1, 0, 1, 1, 1, 0, 0}<br>\n",
    "    &nbsp;&nbsp;&nbsp;&nbsp;- **Output:** 6<br>\n",
    "    &nbsp;&nbsp;&nbsp;&nbsp;- **Explanation:** 1 to 6 (Starting and Ending indexes of output subarray)<br>\n",
    "\n",
    "**EXAMPLE 2:**<br>\n",
    "    &nbsp;&nbsp;&nbsp;&nbsp;- **Input:** arr[] = {1, 1, 1, 1}<br>\n",
    "    &nbsp;&nbsp;&nbsp;&nbsp;- **Output:** -1<br>\n",
    "    &nbsp;&nbsp;&nbsp;&nbsp;- **Explanation:** No such subarray<br>\n",
    "\n",
    "**EXAMPLE 3:**<br>\n",
    "    &nbsp;&nbsp;&nbsp;&nbsp;- **Input:** arr[] = {0, 0, 1, 1, 0}<br>\n",
    "    &nbsp;&nbsp;&nbsp;&nbsp;- **Output:** 4<br>\n",
    "    &nbsp;&nbsp;&nbsp;&nbsp;- **Explanation:** 0 to 3 Or 1 to 4<br>"
   ]
  },
  {
   "cell_type": "code",
   "execution_count": 12,
   "metadata": {},
   "outputs": [],
   "source": [
    "# use hashmap and prefix sum\n",
    "\n",
    "def longest_subarray_t(nums):\n",
    "    cumulative_sum = {}\n",
    "    max_size = -1\n",
    "    prefix_sum = 0\n",
    "    \n",
    "    for i in range(len(nums)):\n",
    "        prefix_sum = prefix_sum-1 if nums[i] == 0 else prefix_sum+1\n",
    "        if prefix_sum == 0: # it measn balanced\n",
    "            max_size = i + 1\n",
    "            if prefix_sum in cumulative_sum:\n",
    "                max_size = max(max_size, i - cumulative_sum[prefix_sum])\n",
    "            else:\n",
    "                cumulative_sum[prefix_sum] = i\n",
    "    return max_size"
   ]
  },
  {
   "cell_type": "code",
   "execution_count": 13,
   "metadata": {},
   "outputs": [],
   "source": [
    "from calc  import calc_time"
   ]
  },
  {
   "cell_type": "code",
   "execution_count": 14,
   "metadata": {},
   "outputs": [
    {
     "data": {
      "text/plain": [
       "{'time': 0.0, 'result': 6}"
      ]
     },
     "execution_count": 14,
     "metadata": {},
     "output_type": "execute_result"
    }
   ],
   "source": [
    "n = [0,0,1,1,0,1,1]\n",
    "calc_time(longest_subarray_t, n)"
   ]
  },
  {
   "cell_type": "code",
   "execution_count": null,
   "metadata": {},
   "outputs": [],
   "source": []
  }
 ],
 "metadata": {
  "kernelspec": {
   "display_name": "Python 3",
   "language": "python",
   "name": "python3"
  },
  "language_info": {
   "codemirror_mode": {
    "name": "ipython",
    "version": 3
   },
   "file_extension": ".py",
   "mimetype": "text/x-python",
   "name": "python",
   "nbconvert_exporter": "python",
   "pygments_lexer": "ipython3",
   "version": "3.11.5"
  }
 },
 "nbformat": 4,
 "nbformat_minor": 2
}
